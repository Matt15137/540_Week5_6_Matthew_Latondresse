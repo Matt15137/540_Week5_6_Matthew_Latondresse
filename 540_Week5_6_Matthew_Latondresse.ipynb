{
 "cells": [
  {
   "cell_type": "code",
   "execution_count": 167,
   "id": "5f619058",
   "metadata": {},
   "outputs": [],
   "source": [
    "import requests\n",
    "from bs4 import BeautifulSoup\n",
    "import pandas as pd\n",
    "import matplotlib.pyplot as plt\n",
    "import numpy as np \n",
    "import sqlite3\n",
    "\n",
    "%matplotlib inline"
   ]
  },
  {
   "cell_type": "code",
   "execution_count": 168,
   "id": "bea65f2f",
   "metadata": {},
   "outputs": [],
   "source": [
    "# 1. Define the URL of the Wikipedia page\n",
    "url = \"https://en.wikipedia.org/wiki/List_of_countries_by_GDP_(nominal)\""
   ]
  },
  {
   "cell_type": "code",
   "execution_count": 169,
   "id": "5f5ac9b5",
   "metadata": {},
   "outputs": [],
   "source": [
    "# 2. Send a GET request to the URL and parse the page with BeautifulSoup\n",
    "response = requests.get(url)\n",
    "soup = BeautifulSoup(response.text, 'html.parser')"
   ]
  },
  {
   "cell_type": "code",
   "execution_count": 170,
   "id": "34c68599",
   "metadata": {},
   "outputs": [
    {
     "name": "stdout",
     "output_type": "stream",
     "text": [
      "Total number of tables are 7 \n"
     ]
    }
   ],
   "source": [
    "# 3. Find all tables on the page\n",
    "all_tables = soup.find_all(\"table\")\n",
    "print(\"Total number of tables are {} \".format(len(all_tables)))"
   ]
  },
  {
   "cell_type": "code",
   "execution_count": 171,
   "id": "3ab329bb",
   "metadata": {},
   "outputs": [],
   "source": [
    "# 4. Find the right table (you may need to inspect the page source)\n",
    "table = tables[2]"
   ]
  },
  {
   "cell_type": "code",
   "execution_count": 172,
   "id": "a7fc9e3e",
   "metadata": {},
   "outputs": [],
   "source": [
    "# 5. Separate the source names and their corresponding data\n",
    "source_names = []\n",
    "data_rows = []\n",
    "\n",
    "for row in table.find_all('tr'):\n",
    "    columns = row.find_all('td')\n",
    "    if len(columns) >= 2:\n",
    "        source_names.append(columns[0].text.strip())\n",
    "        data_rows.append([cell.text.strip() for cell in columns[1:]])"
   ]
  },
  {
   "cell_type": "code",
   "execution_count": 173,
   "id": "8f9c633f",
   "metadata": {},
   "outputs": [
    {
     "name": "stdout",
     "output_type": "stream",
     "text": [
      "Source Names:\n",
      "['World', 'United States', 'China', 'Japan', 'Germany', 'India', 'United Kingdom', 'France', 'Italy', 'Canada', 'Brazil', 'Russia', 'South Korea', 'Australia', 'Mexico', 'Spain', 'Indonesia', 'Netherlands', 'Saudi Arabia', 'Turkey', 'Switzerland', 'Taiwan', 'Poland', 'Argentina', 'Belgium', 'Sweden', 'Ireland', 'Thailand', 'Norway', 'Israel', 'Singapore', 'Austria', 'Nigeria', 'United Arab Emirates', 'Vietnam', 'Malaysia', 'Philippines', 'Bangladesh', 'Denmark', 'South Africa', 'Hong Kong', 'Egypt', 'Iran', 'Chile', 'Romania', 'Pakistan', 'Colombia', 'Czech Republic', 'Finland', 'Peru', 'Iraq', 'Portugal', 'New Zealand', 'Kazakhstan', 'Greece', 'Qatar', 'Algeria', 'Hungary', 'Kuwait', 'Ethiopia', 'Ukraine', 'Morocco', 'Slovakia', 'Ecuador', 'Dominican Republic', 'Puerto Rico', 'Kenya', 'Angola', 'Cuba', 'Oman', 'Guatemala', 'Bulgaria', 'Venezuela', 'Uzbekistan', 'Luxembourg', 'Tanzania', 'Turkmenistan', 'Croatia', 'Lithuania', 'Costa Rica', 'Uruguay', 'Panama', 'Ivory Coast', 'Sri Lanka', 'Serbia', 'Belarus', 'Azerbaijan', 'DR Congo', 'Slovenia', 'Ghana', 'Myanmar', 'Jordan', 'Tunisia', 'Uganda', 'Cameroon', 'Latvia', 'Sudan', 'Libya', 'Bolivia', 'Bahrain', 'Paraguay', 'Nepal', 'Estonia', 'Macau', 'El Salvador', 'Honduras', 'Papua New Guinea', 'Senegal', 'Cyprus', 'Cambodia', 'Zimbabwe', 'Zambia', 'Iceland', 'Bosnia and Herzegovina', 'Trinidad and Tobago', 'Georgia', 'Haiti', 'Lebanon', 'Armenia', 'Guinea', 'Burkina Faso', 'Mali', 'Gabon', 'Albania', 'Afghanistan', 'Mozambique', 'Palestine', 'Botswana', 'Yemen', 'Malta', 'Benin', 'Nicaragua', 'Jamaica', 'Mongolia', 'Niger', 'Guyana', 'Brunei', 'Madagascar', 'North Korea', 'Moldova', 'Syria', 'North Macedonia', 'Equatorial Guinea', 'Mauritius', 'Bahamas', 'Laos', 'Namibia', 'Rwanda', 'Congo', 'Tajikistan', 'Kyrgyzstan', 'Chad', 'Malawi', 'Mauritania', 'New Caledonia', 'Kosovo', 'Togo', 'Somalia', 'Monaco', 'Bermuda', 'Montenegro', 'South Sudan', 'Maldives', 'Liechtenstein', 'Barbados', 'French Polynesia', 'Cayman Islands', 'Fiji', 'Eswatini', 'Liberia', 'Djibouti', 'Andorra', 'Aruba', 'Sierra Leone', 'Suriname', 'Burundi', 'Belize', 'Greenland', 'Central African Republic', 'Curaçao', 'Bhutan', 'Eritrea', 'Lesotho', 'Cape Verde', 'Gambia', 'Saint Lucia', 'East Timor', 'Seychelles', 'Guinea-Bissau', 'Antigua and Barbuda', 'San Marino', 'Zanzibar', 'Solomon Islands', 'British Virgin Islands', 'Comoros', 'Grenada', 'Vanuatu', 'Saint Kitts and Nevis', 'Saint Vincent and the Grenadines', 'Turks and Caicos Islands', 'Samoa', 'Sint Maarten', 'Dominica', 'São Tomé and Príncipe', 'Tonga', 'Micronesia', 'Marshall Islands', 'Cook Islands', 'Palau', 'Anguilla', 'Kiribati', 'Nauru', 'Montserrat', 'Tuvalu']\n"
     ]
    }
   ],
   "source": [
    "# 6. Get the source names from the list of sources you have created\n",
    "print(\"Source Names:\")\n",
    "print(source_names)"
   ]
  },
  {
   "cell_type": "code",
   "execution_count": 174,
   "id": "ed22d740",
   "metadata": {},
   "outputs": [],
   "source": [
    "# 7. Separate the header and data for the first source and create a DataFrame\n",
    "header = data_rows[0]\n",
    "data = data_rows[1:]"
   ]
  },
  {
   "cell_type": "code",
   "execution_count": 175,
   "id": "462378fc",
   "metadata": {},
   "outputs": [],
   "source": [
    "# Create a DataFrame for the first source\n",
    "df_source1 = pd.DataFrame(data, columns=header)"
   ]
  },
  {
   "cell_type": "code",
   "execution_count": 176,
   "id": "1763f525",
   "metadata": {},
   "outputs": [
    {
     "name": "stdout",
     "output_type": "stream",
     "text": [
      "\n",
      "DataFrame for the First Source:\n",
      "          — 105,568,776       2023 100,562,011       2022  96,698,005  \\\n",
      "0  Americas  26,854,599       2023  25,462,700       2022  23,315,081   \n",
      "1      Asia  19,373,586  [n 1]2023  17,963,171  [n 3]2022  17,734,131   \n",
      "2      Asia   4,409,738       2023   4,231,141       2022   4,940,878   \n",
      "3    Europe   4,308,854       2023   4,072,192       2022   4,259,935   \n",
      "4      Asia   3,736,882       2023   3,385,090       2022   3,201,471   \n",
      "\n",
      "        2021  \n",
      "0       2021  \n",
      "1  [n 1]2021  \n",
      "2       2021  \n",
      "3       2021  \n",
      "4       2021  \n"
     ]
    }
   ],
   "source": [
    "# Print the first few rows of the DataFrame for the first source\n",
    "print(\"\\nDataFrame for the First Source:\")\n",
    "print(df_source1.head())"
   ]
  },
  {
   "cell_type": "code",
   "execution_count": 177,
   "id": "e9031cec",
   "metadata": {},
   "outputs": [],
   "source": [
    "# 1. Define the URL of the Wikipedia page\n",
    "url_2 = \"https://en.wikipedia.org/wiki/List_of_Super_Bowl_champions\""
   ]
  },
  {
   "cell_type": "code",
   "execution_count": 178,
   "id": "af24b6d5",
   "metadata": {},
   "outputs": [],
   "source": [
    "# 2. Send a GET request to the URL and parse the page with BeautifulSoup\n",
    "response_2 = requests.get(url_2)\n",
    "soup_2 = BeautifulSoup(response_2.text, 'html.parser')"
   ]
  },
  {
   "cell_type": "code",
   "execution_count": 179,
   "id": "18222475",
   "metadata": {},
   "outputs": [],
   "source": [
    "# 3. Find the right table (you may need to inspect the page source)\n",
    "table_2 = soup_2.find_all(\"table\")[1]  \n"
   ]
  },
  {
   "cell_type": "code",
   "execution_count": 180,
   "id": "1d6992e0",
   "metadata": {},
   "outputs": [],
   "source": [
    "# 4. Separate the header and data for the Super Bowl champions table\n",
    "header_2 = []\n",
    "data_rows_2 = []\n",
    "\n",
    "for row in table_2.find_all('tr'):\n",
    "    columns = row.find_all('td')\n",
    "    if len(columns) > 0:\n",
    "        if not header_2:\n",
    "            # If the header list is empty, it means we're processing the header row\n",
    "            header_2 = [cell.text.strip() for cell in columns]\n",
    "        else:\n",
    "            data_rows_2.append([cell.text.strip() for cell in columns])"
   ]
  },
  {
   "cell_type": "code",
   "execution_count": 181,
   "id": "d853b96e",
   "metadata": {},
   "outputs": [
    {
     "name": "stdout",
     "output_type": "stream",
     "text": [
      "\n",
      "DataFrame for Super Bowl Champions:\n",
      "     I[sb 1]  January 15, 1967 (1966 AFL/1966 NFL)  \\\n",
      "0   II[sb 1]  January 14, 1968 (1967 AFL/1967 NFL)   \n",
      "1  III[sb 1]  January 12, 1969 (1968 AFL/1968 NFL)   \n",
      "2   IV[sb 1]  January 11, 1970 (1969 AFL/1969 NFL)   \n",
      "3          V               January 17, 1971 (1970)   \n",
      "4         VI               January 16, 1972 (1971)   \n",
      "\n",
      "    Green Bay Packersn(1, 1–0)  35–10 Kansas City Chiefsa(1, 0–1)  \\\n",
      "0   Green Bay Packersn(2, 2–0)  33–14    Oakland Raidersa(1, 0–1)   \n",
      "1       New York Jetsa(1, 1–0)   16–7    Baltimore Coltsn(1, 0–1)   \n",
      "2  Kansas City Chiefsa(2, 1–1)   23–7  Minnesota Vikingsn(1, 0–1)   \n",
      "3     Baltimore ColtsA(2, 1–1)  16–13     Dallas CowboysN(1, 0–1)   \n",
      "4      Dallas CowboysN(2, 1–1)   24–3     Miami DolphinsA(1, 0–1)   \n",
      "\n",
      "  Los Angeles Memorial Coliseum Los Angeles, California[sb 2]  61,946  \\\n",
      "0             Miami Orange Bowl          Miami, Florida[sb 3]  75,546   \n",
      "1         Miami Orange Bowl (2)      Miami, Florida (2)[sb 3]  75,389   \n",
      "2                Tulane Stadium        New Orleans, Louisiana  80,562   \n",
      "3         Miami Orange Bowl (3)      Miami, Florida (3)[sb 3]  79,204   \n",
      "4            Tulane Stadium (2)    New Orleans, Louisiana (2)  81,023   \n",
      "\n",
      "   Norm Schachter   [7][8]  \n",
      "0       Jack Vest   [9][8]  \n",
      "1        Tom Bell  [10][8]  \n",
      "2  John McDonough  [11][8]  \n",
      "3  Norm Schachter  [12][8]  \n",
      "4      Jim Tunney  [13][8]  \n"
     ]
    }
   ],
   "source": [
    "# 5. Create a DataFrame for the Super Bowl champions\n",
    "df_super_bowl_champions = pd.DataFrame(data_rows_2, columns=header_2)\n",
    "\n",
    "# Print the first few rows of the DataFrame for Super Bowl champions\n",
    "print(\"\\nDataFrame for Super Bowl Champions:\")\n",
    "print(df_super_bowl_champions.head())"
   ]
  },
  {
   "cell_type": "code",
   "execution_count": 182,
   "id": "54ed5c64",
   "metadata": {},
   "outputs": [],
   "source": [
    "# 1. Define the URL of the Wikipedia page\n",
    "url_3 = \"https://en.wikipedia.org/wiki/FIFA_World_Cup\""
   ]
  },
  {
   "cell_type": "code",
   "execution_count": 183,
   "id": "d015a7fd",
   "metadata": {},
   "outputs": [],
   "source": [
    "# 2. Send a GET request to the URL and parse the page with BeautifulSoup\n",
    "response_3 = requests.get(url_3)\n",
    "soup_3 = BeautifulSoup(response_3.text, 'html.parser')"
   ]
  },
  {
   "cell_type": "code",
   "execution_count": 184,
   "id": "42584e67",
   "metadata": {},
   "outputs": [],
   "source": [
    "# 3. Find the right table (you may need to inspect the page source)\n",
    "table_3 = soup_3.find_all(\"table\")[2]  \n"
   ]
  },
  {
   "cell_type": "code",
   "execution_count": 185,
   "id": "a827aad5",
   "metadata": {},
   "outputs": [],
   "source": [
    "# 4. Separate the header and data for Total of World Cup Competitions hosted by each Confederation\n",
    "header_3 = []\n",
    "data_rows_3 = []\n",
    "\n",
    "for row in table_3.find_all('tr'):\n",
    "    columns = row.find_all('td')\n",
    "    if len(columns) > 0:\n",
    "        if not header_3:\n",
    "            # If the header list is empty, it means we're processing the header row\n",
    "            header_3 = [cell.text.strip() for cell in columns]\n",
    "        else:\n",
    "            data_rows_3.append([cell.text.strip() for cell in columns])"
   ]
  },
  {
   "cell_type": "code",
   "execution_count": 186,
   "id": "b903339d",
   "metadata": {},
   "outputs": [
    {
     "name": "stdout",
     "output_type": "stream",
     "text": [
      "\n",
      "DataFrame for Total of World Cup Competitions hosted by each Confederation:\n",
      "                   Asian Football Confederation(AFC)   2  \\\n",
      "0             Confederation of African Football(CAF)   2   \n",
      "1  Confederation of North, Central America and Ca...   4   \n",
      "2    South American Football Confederation(CONMEBOL)   5   \n",
      "3                Oceania Football Confederation(OFC)   0   \n",
      "4      Union of European Football Associations(UEFA)  12   \n",
      "\n",
      "              2002:  South Korea,  Japan2022:  Qatar  \n",
      "0                  2010:  South Africa2030:  Morocco  \n",
      "1  1970:  Mexico1986:  Mexico1994:  United States...  \n",
      "2  1930:  Uruguay1950:  Brazil1962:  Chile1978:  ...  \n",
      "3                                                     \n",
      "4  1934:  Italy1938:  France1954:   Switzerland19...  \n"
     ]
    }
   ],
   "source": [
    "# 5. Create a DataFrame for World Cups\n",
    "df_world_cup_by_federation= pd.DataFrame(data_rows_3, columns=header_3)\n",
    "\n",
    "# Print the first few rows of the DataFrame for World Cups\n",
    "print(\"\\nDataFrame for Total of World Cup Competitions hosted by each Confederation:\")\n",
    "print(df_world_cup_by_federation.head())"
   ]
  },
  {
   "cell_type": "code",
   "execution_count": 187,
   "id": "70c49ff2",
   "metadata": {},
   "outputs": [],
   "source": [
    "# 1. Read the CSV file\n",
    "df_visit = pd.read_csv(\"C:/Users/mattl/OneDrive/Documents/GitHub/DSC540/visit_data.csv\")"
   ]
  },
  {
   "cell_type": "code",
   "execution_count": 188,
   "id": "989f3f0d",
   "metadata": {},
   "outputs": [
    {
     "name": "stdout",
     "output_type": "stream",
     "text": [
      "First name is duplictaed - True\n",
      "Last name is duplictaed - True\n",
      "Email is duplictaed - False\n"
     ]
    }
   ],
   "source": [
    "# 2. Check duplicates\n",
    "print(\"First name is duplictaed - {}\".format(any(df.first_name.duplicated())))\n",
    "print(\"Last name is duplictaed - {}\".format(any(df.last_name.duplicated())))\n",
    "print(\"Email is duplictaed - {}\".format(any(df.email.duplicated())))"
   ]
  },
  {
   "cell_type": "code",
   "execution_count": 189,
   "id": "beda4c5e",
   "metadata": {},
   "outputs": [
    {
     "name": "stdout",
     "output_type": "stream",
     "text": [
      "The column Email contains NaN - False \n",
      "The column IP Address contains NaN - False \n",
      "The column Visit contains NaN - True \n"
     ]
    }
   ],
   "source": [
    "# 3. Check for NaN values in essential columns\n",
    "print(\"The column Email contains NaN - %r \" % df.email.isnull().values.any())\n",
    "print(\"The column IP Address contains NaN - %s \" % df.ip_address.isnull().values.any())\n",
    "print(\"The column Visit contains NaN - %s \" % df.visit.isnull().values.any())"
   ]
  },
  {
   "cell_type": "code",
   "execution_count": 190,
   "id": "ee1815e1",
   "metadata": {},
   "outputs": [],
   "source": [
    "# 4. Identify and remove outliers \n",
    "size_prev = df_visit.shape\n",
    "df_visit = df_visit[np.isfinite(df_visit['visit'])]\n",
    "size_after = df_visit.shape"
   ]
  },
  {
   "cell_type": "code",
   "execution_count": 191,
   "id": "ee962b05",
   "metadata": {},
   "outputs": [
    {
     "name": "stdout",
     "output_type": "stream",
     "text": [
      "The size of previous data was - 1000 rows and the size of the new one is - 974 rows\n"
     ]
    }
   ],
   "source": [
    "# 5. Report the size difference\n",
    "print(\"The size of previous data was - {prev[0]} rows and the size of the new one is - {after[0]} rows\".\n",
    "      format(prev=size_prev, after=size_after))"
   ]
  },
  {
   "cell_type": "code",
   "execution_count": 192,
   "id": "5e8fa679",
   "metadata": {},
   "outputs": [
    {
     "data": {
      "text/plain": [
       "{'whiskers': [<matplotlib.lines.Line2D at 0x17427fa4220>,\n",
       "  <matplotlib.lines.Line2D at 0x17427fa44c0>],\n",
       " 'caps': [<matplotlib.lines.Line2D at 0x17427fa4640>,\n",
       "  <matplotlib.lines.Line2D at 0x17427fa48e0>],\n",
       " 'boxes': [<matplotlib.lines.Line2D at 0x1742807ff40>],\n",
       " 'medians': [<matplotlib.lines.Line2D at 0x17427fa4b80>],\n",
       " 'fliers': [<matplotlib.lines.Line2D at 0x17427fa4e20>],\n",
       " 'means': []}"
      ]
     },
     "execution_count": 192,
     "metadata": {},
     "output_type": "execute_result"
    },
    {
     "data": {
      "image/png": "[encoded data removed]",
      "text/plain": [
       "<Figure size 640x480 with 1 Axes>"
      ]
     },
     "metadata": {},
     "output_type": "display_data"
    }
   ],
   "source": [
    "# 6. Create a box plot to visualize outliers\n",
    "plt.boxplot(df_visit.visit, notch=True)"
   ]
  },
  {
   "cell_type": "code",
   "execution_count": 193,
   "id": "a3bc97b5",
   "metadata": {},
   "outputs": [],
   "source": [
    "# 1. Connect to the SQLite database (it will create a new one if it doesn't exist)\n",
    "conn = sqlite3.connect('my_database.db')\n"
   ]
  },
  {
   "cell_type": "code",
   "execution_count": 194,
   "id": "e3ffd2bb",
   "metadata": {},
   "outputs": [],
   "source": [
    "# 2. Create a cursor to interact with the database\n",
    "cursor = conn.cursor()"
   ]
  },
  {
   "cell_type": "code",
   "execution_count": 195,
   "id": "4f587b6a",
   "metadata": {},
   "outputs": [
    {
     "data": {
      "text/plain": [
       "<sqlite3.Cursor at 0x1742b9e8cc0>"
      ]
     },
     "execution_count": 195,
     "metadata": {},
     "output_type": "execute_result"
    }
   ],
   "source": [
    "# 3. Create a table with the specified columns (Name, Address, City, State, Zip, Phone Number)\n",
    "cursor.execute('''CREATE TABLE IF NOT EXISTS my_table (\n",
    "                  Name TEXT,\n",
    "                  Address TEXT,\n",
    "                  City TEXT,\n",
    "                  State TEXT,\n",
    "                  Zip TEXT,\n",
    "                  Phone_Number TEXT\n",
    "                )''')\n"
   ]
  },
  {
   "cell_type": "code",
   "execution_count": 196,
   "id": "877d258e",
   "metadata": {},
   "outputs": [],
   "source": [
    "# 4. Insert at least 10 rows of data into the table\n",
    "data_to_insert = [\n",
    "    ('John Doe', '123 Main St', 'New York', 'NY', '10001', '123-456-7890'),\n",
    "    ('Jane Smith', '456 Elm St', 'Los Angeles', 'CA', '90001', '987-654-3210'),\n",
    "    ('Alice Johnson', '789 Oak St', 'Chicago', 'IL', '60601', '555-123-4567'),\n",
    "    # Add more rows here...\n",
    "]\n",
    "\n",
    "cursor.executemany('INSERT INTO my_table VALUES (?, ?, ?, ?, ?, ?)', data_to_insert)\n",
    "\n",
    "# Commit the changes to the database\n",
    "conn.commit()\n",
    "\n"
   ]
  },
  {
   "cell_type": "code",
   "execution_count": 197,
   "id": "ee9a70dd",
   "metadata": {},
   "outputs": [
    {
     "name": "stdout",
     "output_type": "stream",
     "text": [
      "('John Doe', '123 Main St', 'New York', 'NY', '10001', '123-456-7890')\n",
      "('Jane Smith', '456 Elm St', 'Los Angeles', 'CA', '90001', '987-654-3210')\n",
      "('Alice Johnson', '789 Oak St', 'Chicago', 'IL', '60601', '555-123-4567')\n"
     ]
    }
   ],
   "source": [
    "# 5. Execute a query to generate results (e.g., selecting all rows)\n",
    "cursor.execute('SELECT * FROM my_table')\n",
    "\n",
    "# Fetch and print the results\n",
    "results = cursor.fetchall()\n",
    "for row in results:\n",
    "    print(row)\n",
    "\n",
    "# Close the database connection\n",
    "conn.close()"
   ]
  },
  {
   "cell_type": "code",
   "execution_count": null,
   "id": "a246e3a5",
   "metadata": {},
   "outputs": [],
   "source": []
  }
 ],
 "metadata": {
  "kernelspec": {
   "display_name": "Python 3 (ipykernel)",
   "language": "python",
   "name": "python3"
  },
  "language_info": {
   "codemirror_mode": {
    "name": "ipython",
    "version": 3
   },
   "file_extension": ".py",
   "mimetype": "text/x-python",
   "name": "python",
   "nbconvert_exporter": "python",
   "pygments_lexer": "ipython3",
   "version": "3.10.9"
  }
 },
 "nbformat": 4,
 "nbformat_minor": 5
}
